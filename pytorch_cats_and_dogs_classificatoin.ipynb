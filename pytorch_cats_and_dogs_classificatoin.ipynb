{
  "nbformat": 4,
  "nbformat_minor": 0,
  "metadata": {
    "colab": {
      "name": "pytorch-cats_and_dogs_classificatoin.ipynb",
      "version": "0.3.2",
      "provenance": [],
      "collapsed_sections": [],
      "include_colab_link": true
    },
    "kernelspec": {
      "name": "python3",
      "display_name": "Python 3"
    },
    "accelerator": "GPU"
  },
  "cells": [
    {
      "cell_type": "markdown",
      "metadata": {
        "id": "view-in-github",
        "colab_type": "text"
      },
      "source": [
        "[View in Colaboratory](https://colab.research.google.com/github/gowtham91m/cats-and-dogs-classification/blob/master/pytorch_cats_and_dogs_classificatoin.ipynb)"
      ]
    },
    {
      "metadata": {
        "id": "iVLV8qY1LJNC",
        "colab_type": "code",
        "colab": {}
      },
      "cell_type": "code",
      "source": [
        "%%capture\n",
        "!pip install kaggle\n",
        "!pip install torch\n",
        "!pip install torchvision"
      ],
      "execution_count": 0,
      "outputs": []
    },
    {
      "metadata": {
        "id": "QTEUyrhlmXqS",
        "colab_type": "code",
        "colab": {
          "base_uri": "https://localhost:8080/",
          "height": 34
        },
        "outputId": "294b1108-19fc-4cc2-fa56-5f5e98746b2b"
      },
      "cell_type": "code",
      "source": [
        "from zipfile import ZipFile\n",
        "import io, cv2, fnmatch, shutil, os, getpass, subprocess, random\n",
        "from keras.preprocessing.image import ImageDataGenerator\n",
        "from keras.models import Sequential\n",
        "from keras.layers import Conv2D, MaxPooling2D\n",
        "from keras.layers import Activation, Dropout, Flatten, Dense\n",
        "import numpy as np\n",
        "from time import time\n",
        "from glob import glob"
      ],
      "execution_count": 2,
      "outputs": [
        {
          "output_type": "stream",
          "text": [
            "Using TensorFlow backend.\n"
          ],
          "name": "stderr"
        }
      ]
    },
    {
      "metadata": {
        "id": "p4Bpx7yjEvZC",
        "colab_type": "code",
        "colab": {}
      },
      "cell_type": "code",
      "source": [
        "os.chdir('/content')\n",
        "if 'kaggle.txt' not in os.listdir('/content'):\n",
        "  from google.colab import files\n",
        "  downloaded = files.upload()"
      ],
      "execution_count": 0,
      "outputs": []
    },
    {
      "metadata": {
        "id": "pXrj_zrwjVp-",
        "colab_type": "code",
        "colab": {
          "base_uri": "https://localhost:8080/",
          "height": 169
        },
        "outputId": "6284473f-af7a-48b2-c1fb-b84417903784"
      },
      "cell_type": "code",
      "source": [
        "os.chdir('/content')\n",
        "with open('kaggle.txt') as f: key = f.read()\n",
        "os.environ['KAGGLE_USERNAME'], os.environ['KAGGLE_KEY'] = \"gowham91m\", key\n",
        "if 'cats_dogs' in os.listdir('/content'):shutil.rmtree('/content/cats_dogs')\n",
        "os.mkdir('/content/cats_dogs')\n",
        "os.chdir('/content/cats_dogs')\n",
        "!kaggle competitions download -c dogs-vs-cats"
      ],
      "execution_count": 4,
      "outputs": [
        {
          "output_type": "stream",
          "text": [
            "Downloading sampleSubmission.csv to /content/cats_dogs\n",
            "\r  0% 0.00/86.8k [00:00<?, ?B/s]\n",
            "100% 86.8k/86.8k [00:00<00:00, 36.7MB/s]\n",
            "Downloading test1.zip to /content/cats_dogs\n",
            " 97% 263M/271M [00:01<00:00, 156MB/s]\n",
            "100% 271M/271M [00:01<00:00, 167MB/s]\n",
            "Downloading train.zip to /content/cats_dogs\n",
            " 98% 533M/543M [00:03<00:00, 187MB/s]\n",
            "100% 543M/543M [00:03<00:00, 157MB/s]\n"
          ],
          "name": "stdout"
        }
      ]
    },
    {
      "metadata": {
        "id": "q3wrOx42FijD",
        "colab_type": "code",
        "colab": {
          "base_uri": "https://localhost:8080/",
          "height": 118
        },
        "outputId": "5b9e39d0-4368-4188-f189-cbc0b765f9a8"
      },
      "cell_type": "code",
      "source": [
        "!unzip -q -o train.zip\n",
        "!unzip -q -o test1.zip\n",
        "\n",
        "cat_pattern = '*cat.*.jpg'\n",
        "dog_pattern = '*dog.*.jpg'\n",
        "\n",
        "images = glob('/content/cats_dogs/train/*.jpg', recursive=True)\n",
        "cats = fnmatch.filter(images,cat_pattern)\n",
        "dogs = fnmatch.filter(images,dog_pattern)\n",
        "\n",
        "os.listdir('/content/cats_dogs')\n",
        "if 'data' not in os.listdir('/content/cats_dogs'):os.mkdir('/content/cats_dogs/data')\n",
        "if 'train' not in os.listdir('/content/cats_dogs/data'):os.mkdir('/content/cats_dogs/data/train')\n",
        "if 'dogs' not in os.listdir('/content/cats_dogs/data/train'):os.mkdir('/content/cats_dogs/data/train/dogs')\n",
        "if 'cats' not in os.listdir('/content/cats_dogs/data/train'):os.mkdir('/content/cats_dogs/data/train/cats')\n",
        "  \n",
        "if 'val' not in os.listdir('/content/cats_dogs/data'):os.mkdir('/content/cats_dogs/data/val')\n",
        "if 'dogs' not in os.listdir('/content/cats_dogs/data/val'):os.mkdir('/content/cats_dogs/data/val/dogs')\n",
        "if 'cats' not in os.listdir('/content/cats_dogs/data/val'):os.mkdir('/content/cats_dogs/data/val/cats')\n",
        "\n",
        "train_dogs_path = '/content/cats_dogs/data/train/dogs'\n",
        "train_cats_path = '/content/cats_dogs/data/train/cats'\n",
        "\n",
        "val_dogs_path = '/content/cats_dogs/data/val/dogs'\n",
        "val_cats_path = '/content/cats_dogs/data/val/cats'\n",
        "\n",
        "for file in cats: shutil.copy2(file, train_cats_path)\n",
        "for file in dogs: shutil.copy2(file, train_dogs_path)\n",
        "  \n",
        "  \n",
        "# split train date into train and validation\n",
        "train_len = len(os.listdir('/content/cats_dogs/data/train/dogs'))\n",
        "val_len = train_len * 0.3\n",
        "val_dogs = random.sample(os.listdir(train_dogs_path),int(val_len))\n",
        "val_cats = random.sample(os.listdir(train_cats_path),int(val_len))\n",
        "\n",
        "\n",
        "for file in val_dogs:\n",
        "  try: shutil.move(os.path.join(train_dogs_path,file), val_dogs_path)\n",
        "  except: pass\n",
        "for file in val_cats:\n",
        "  try: shutil.move(os.path.join(train_cats_path,file), val_cats_path)\n",
        "  except: pass\n",
        "  \n",
        "  \n",
        "  \n",
        "print(len(os.listdir(train_cats_path)))\n",
        "print(len(os.listdir(val_cats_path)))\n",
        "\n",
        "print(len(os.listdir(train_dogs_path)))\n",
        "print(len(os.listdir(val_dogs_path)))\n",
        "\n",
        "print('total train samples ', len(os.listdir(train_cats_path)) + len(os.listdir(train_dogs_path)))\n",
        "print('total train samples ', len(os.listdir(val_cats_path)) + len(os.listdir(val_dogs_path)))"
      ],
      "execution_count": 5,
      "outputs": [
        {
          "output_type": "stream",
          "text": [
            "8750\n",
            "3750\n",
            "8750\n",
            "3750\n",
            "total train samples  17500\n",
            "total train samples  7500\n"
          ],
          "name": "stdout"
        }
      ]
    },
    {
      "metadata": {
        "id": "6Vsa0-IbUJZ6",
        "colab_type": "code",
        "colab": {}
      },
      "cell_type": "code",
      "source": [
        ""
      ],
      "execution_count": 0,
      "outputs": []
    },
    {
      "metadata": {
        "id": "xPGywHxE8vvJ",
        "colab_type": "text"
      },
      "cell_type": "markdown",
      "source": [
        "##Train on pytorch"
      ]
    },
    {
      "metadata": {
        "id": "qHTVBpAKrNJY",
        "colab_type": "code",
        "colab": {}
      },
      "cell_type": "code",
      "source": [
        "%%capture\n",
        "!pip install Pillow==4.0.0"
      ],
      "execution_count": 0,
      "outputs": []
    },
    {
      "metadata": {
        "id": "3qHG-DkVijwG",
        "colab_type": "code",
        "colab": {}
      },
      "cell_type": "code",
      "source": [
        "import torch\n",
        "import torchvision\n",
        "import torchvision.transforms as transforms\n",
        "from torchvision.datasets import ImageFolder\n",
        "from torchvision import datasets\n",
        "from torch.utils.data import DataLoader\n",
        "import torch.nn as nn\n",
        "import torch.nn.functional as F\n",
        "import torch.optim as optim\n",
        "from torch.optim import lr_scheduler\n",
        "import time\n",
        "from tqdm import tqdm\n",
        "from torch.autograd import Variable"
      ],
      "execution_count": 0,
      "outputs": []
    },
    {
      "metadata": {
        "id": "nGv0_B81Z8c-",
        "colab_type": "code",
        "colab": {}
      },
      "cell_type": "code",
      "source": [
        "mean = [0.485, 0.456, 0.406]\n",
        "std = [0.229, 0.224, 0.225]\n",
        "\n",
        "train_transformer = transforms.Compose([\n",
        "                                        transforms.Resize((150,150)),           \n",
        "                                        transforms.RandomHorizontalFlip(),  \n",
        "                                        transforms.ToTensor(),\n",
        "                                        transforms.Normalize(mean=mean,std=std)])  \n",
        "\n",
        "\n",
        "val_transformer = transforms.Compose([\n",
        "                                        transforms.Resize((150,150)),       \n",
        "                                        transforms.ToTensor(),\n",
        "                                        transforms.Normalize(mean=mean,std=std)])  \n",
        "\n",
        "train_data = ImageFolder('/content/cats_dogs/data/train', transform = train_transformer)\n",
        "val_data = ImageFolder('/content/cats_dogs/data/val', transform = val_transformer)\n",
        "\n",
        "train_loader = DataLoader(train_data,\n",
        "                        batch_size=256,\n",
        "                        shuffle=True)\n",
        "\n",
        "val_loader = DataLoader(val_data,\n",
        "                        batch_size=256,\n",
        "                        shuffle=False)"
      ],
      "execution_count": 0,
      "outputs": []
    },
    {
      "metadata": {
        "id": "0LPuJ_WB6xvF",
        "colab_type": "code",
        "colab": {}
      },
      "cell_type": "code",
      "source": [
        "class Net(nn.Module):\n",
        "    def __init__(self):\n",
        "        super(Net, self).__init__()\n",
        "        self.conv1 = nn.Conv2d(in_channels = 3, out_channels = 32, kernel_size = 3, stride=1, padding=0)\n",
        "        self.conv2 = nn.Conv2d(in_channels = 32, out_channels =  32, kernel_size = 3, stride=1, padding = 0)\n",
        "        self.conv3 = nn.Conv2d(in_channels = 32, out_channels =  64, kernel_size = 3, stride=1, padding = 0)\n",
        "        \n",
        "        self.pool = nn.MaxPool2d(2, 2)\n",
        "        self.dropout = nn.Dropout(0.5) \n",
        "        \n",
        "        self.fc1 = nn.Linear(64 * 17 * 17, 64)\n",
        "        self.fc2 = nn.Linear(64,1)\n",
        "\n",
        "    def forward(self, x):\n",
        "        x = self.pool(F.relu(self.conv1(x)))\n",
        "        x = self.pool(F.relu(self.conv2(x)))\n",
        "        x = self.pool(F.relu(self.conv3(x)))\n",
        "        \n",
        "        #print(x.size())\n",
        "        \n",
        "        x = x.view(-1, 64 * 17 * 17)\n",
        "        x = F.relu(self.fc1(x))\n",
        "        x = self.dropout(x)\n",
        "        x = self.fc2(x)\n",
        "        return  x\n",
        "      \n",
        "      \n",
        "net = Net()\n",
        "net = net.cuda()\n",
        "criterion =  nn.BCEWithLogitsLoss()\n",
        "#optimizer = optim.SGD(net.parameters(), lr=0.01)\n",
        "optimizer = optim.RMSprop(net.parameters(),lr=0.01)"
      ],
      "execution_count": 0,
      "outputs": []
    },
    {
      "metadata": {
        "id": "NiNM_B0mFU5O",
        "colab_type": "code",
        "colab": {
          "base_uri": "https://localhost:8080/",
          "height": 67
        },
        "outputId": "dd974478-543e-49c1-9b2a-c573ab195e13"
      },
      "cell_type": "code",
      "source": [
        "def train_model(model, train_loader,val_loader, criterion, optimizer, num_epochs=1):\n",
        "    since = time.time()\n",
        "    iter = 0\n",
        "    for epoch in range(4): \n",
        "      \n",
        "      for i,(inputs, labels) in enumerate(train_loader):\n",
        "        inputs,labels = Variable(inputs.cuda()), Variable(labels.cuda())\n",
        "        \n",
        "        optimizer.zero_grad()\n",
        "        output = net(inputs)\n",
        "        #loss = loss_fn(output.view(-1), target.float())\n",
        "        loss = criterion(output.view(-1),labels.float())\n",
        "        loss.backward()\n",
        "        optimizer.step()\n",
        "        \n",
        "        correct = 0\n",
        "        total = 0\n",
        "\n",
        "        for val_input, val_labels in val_loader:\n",
        "          val_input = Variable(val_input.cuda())\n",
        "          output = net(val_input)\n",
        "          _, predicted = torch.max(output.data,1)\n",
        "          total += val_labels.size(0)\n",
        "          correct += (predicted.cpu() == val_labels.cpu()).sum()\n",
        "        print('.',end='')\n",
        "      accuracy = 100 * correct / total\n",
        "      print('epoch: {} Loss {} Accuracy {}'.format(epoch+1, loss.item(), accuracy))\n",
        "      \n",
        "    print('\\n')\n",
        "    time_elapsed = time.time() - since\n",
        "    return model\n",
        "  \n",
        "model_ft = train_model(net,  train_loader,val_loader,  criterion, optimizer)"
      ],
      "execution_count": 0,
      "outputs": [
        {
          "output_type": "stream",
          "text": [
            ".....................................................................epoch: 1 Loss 0.6721445918083191 Accuracy 50\n",
            ".....................................................................epoch: 2 Loss 0.680411696434021 Accuracy 50\n",
            "............................................"
          ],
          "name": "stdout"
        }
      ]
    },
    {
      "metadata": {
        "id": "QOSNK-EvDWrR",
        "colab_type": "code",
        "colab": {}
      },
      "cell_type": "code",
      "source": [
        ""
      ],
      "execution_count": 0,
      "outputs": []
    },
    {
      "metadata": {
        "id": "zFsbM8_7YsKB",
        "colab_type": "code",
        "colab": {}
      },
      "cell_type": "code",
      "source": [
        ""
      ],
      "execution_count": 0,
      "outputs": []
    },
    {
      "metadata": {
        "id": "CcP8wrtQYsNb",
        "colab_type": "code",
        "colab": {}
      },
      "cell_type": "code",
      "source": [
        ""
      ],
      "execution_count": 0,
      "outputs": []
    }
  ]
}